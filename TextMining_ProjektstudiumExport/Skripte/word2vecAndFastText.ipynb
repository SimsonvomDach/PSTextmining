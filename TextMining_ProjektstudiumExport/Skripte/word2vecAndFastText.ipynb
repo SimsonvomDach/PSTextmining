{
 "cells": [
  {
   "cell_type": "code",
   "execution_count": 3,
   "metadata": {},
   "outputs": [],
   "source": [
    "# Data Analysis and Preprocessing\n",
    "import numpy as np\n",
    "import pandas as pd\n",
    "import matplotlib.pyplot as plt\n",
    "\n",
    "# For File Navigation\n",
    "import os\n",
    "\n",
    "# Our NLP Library which includes the Word2Vec algorithm\n",
    "import gensim\n",
    "\n",
    "# For tokenizing corpus into sentences\n",
    "import nltk\n",
    "from nltk.corpus import stopwords\n",
    "\n",
    "# For tokenizing the sentences into words, lowercase them and remove punctuation marks\n",
    "from gensim.utils import simple_preprocess\n",
    "# For removing stopwords\n",
    "from gensim.parsing.preprocessing import remove_stopwords\n",
    "\n",
    "# Generate WordCloud\n",
    "from wordcloud import WordCloud\n",
    "\n",
    "# PCA\n",
    "from sklearn.decomposition import PCA\n",
    "\n",
    "import string"
   ]
  },
  {
   "cell_type": "code",
   "execution_count": 5,
   "metadata": {},
   "outputs": [
    {
     "data": {
      "text/html": [
       "<div>\n",
       "<style scoped>\n",
       "    .dataframe tbody tr th:only-of-type {\n",
       "        vertical-align: middle;\n",
       "    }\n",
       "\n",
       "    .dataframe tbody tr th {\n",
       "        vertical-align: top;\n",
       "    }\n",
       "\n",
       "    .dataframe thead th {\n",
       "        text-align: right;\n",
       "    }\n",
       "</style>\n",
       "<table border=\"1\" class=\"dataframe\">\n",
       "  <thead>\n",
       "    <tr style=\"text-align: right;\">\n",
       "      <th></th>\n",
       "      <th>Dialogue ID</th>\n",
       "      <th>Chapter ID</th>\n",
       "      <th>Place ID</th>\n",
       "      <th>Character ID</th>\n",
       "      <th>Dialogue</th>\n",
       "    </tr>\n",
       "  </thead>\n",
       "  <tbody>\n",
       "    <tr>\n",
       "      <th>0</th>\n",
       "      <td>1</td>\n",
       "      <td>1</td>\n",
       "      <td>8</td>\n",
       "      <td>4</td>\n",
       "      <td>I should have known that you would be here...P...</td>\n",
       "    </tr>\n",
       "    <tr>\n",
       "      <th>1</th>\n",
       "      <td>2</td>\n",
       "      <td>1</td>\n",
       "      <td>8</td>\n",
       "      <td>7</td>\n",
       "      <td>Good evening, Professor Dumbledore. Are the ru...</td>\n",
       "    </tr>\n",
       "    <tr>\n",
       "      <th>2</th>\n",
       "      <td>3</td>\n",
       "      <td>1</td>\n",
       "      <td>8</td>\n",
       "      <td>4</td>\n",
       "      <td>I'm afraid so, Professor. The good, and the bad.</td>\n",
       "    </tr>\n",
       "    <tr>\n",
       "      <th>3</th>\n",
       "      <td>4</td>\n",
       "      <td>1</td>\n",
       "      <td>8</td>\n",
       "      <td>7</td>\n",
       "      <td>And the boy?</td>\n",
       "    </tr>\n",
       "    <tr>\n",
       "      <th>4</th>\n",
       "      <td>5</td>\n",
       "      <td>1</td>\n",
       "      <td>8</td>\n",
       "      <td>4</td>\n",
       "      <td>Hagrid is bringing him.</td>\n",
       "    </tr>\n",
       "    <tr>\n",
       "      <th>...</th>\n",
       "      <td>...</td>\n",
       "      <td>...</td>\n",
       "      <td>...</td>\n",
       "      <td>...</td>\n",
       "      <td>...</td>\n",
       "    </tr>\n",
       "    <tr>\n",
       "      <th>7439</th>\n",
       "      <td>7440</td>\n",
       "      <td>234</td>\n",
       "      <td>71</td>\n",
       "      <td>1</td>\n",
       "      <td>Then Slytherin House will have gained a wonder...</td>\n",
       "    </tr>\n",
       "    <tr>\n",
       "      <th>7440</th>\n",
       "      <td>7441</td>\n",
       "      <td>234</td>\n",
       "      <td>71</td>\n",
       "      <td>84</td>\n",
       "      <td>Really?</td>\n",
       "    </tr>\n",
       "    <tr>\n",
       "      <th>7441</th>\n",
       "      <td>7442</td>\n",
       "      <td>234</td>\n",
       "      <td>71</td>\n",
       "      <td>1</td>\n",
       "      <td>Really.</td>\n",
       "    </tr>\n",
       "    <tr>\n",
       "      <th>7442</th>\n",
       "      <td>7443</td>\n",
       "      <td>234</td>\n",
       "      <td>71</td>\n",
       "      <td>1</td>\n",
       "      <td>Ready?</td>\n",
       "    </tr>\n",
       "    <tr>\n",
       "      <th>7443</th>\n",
       "      <td>7444</td>\n",
       "      <td>234</td>\n",
       "      <td>71</td>\n",
       "      <td>84</td>\n",
       "      <td>Ready.</td>\n",
       "    </tr>\n",
       "  </tbody>\n",
       "</table>\n",
       "<p>7444 rows × 5 columns</p>\n",
       "</div>"
      ],
      "text/plain": [
       "      Dialogue ID  Chapter ID  Place ID  Character ID  \\\n",
       "0               1           1         8             4   \n",
       "1               2           1         8             7   \n",
       "2               3           1         8             4   \n",
       "3               4           1         8             7   \n",
       "4               5           1         8             4   \n",
       "...           ...         ...       ...           ...   \n",
       "7439         7440         234        71             1   \n",
       "7440         7441         234        71            84   \n",
       "7441         7442         234        71             1   \n",
       "7442         7443         234        71             1   \n",
       "7443         7444         234        71            84   \n",
       "\n",
       "                                               Dialogue  \n",
       "0     I should have known that you would be here...P...  \n",
       "1     Good evening, Professor Dumbledore. Are the ru...  \n",
       "2      I'm afraid so, Professor. The good, and the bad.  \n",
       "3                                          And the boy?  \n",
       "4                               Hagrid is bringing him.  \n",
       "...                                                 ...  \n",
       "7439  Then Slytherin House will have gained a wonder...  \n",
       "7440                                            Really?  \n",
       "7441                                            Really.  \n",
       "7442                                             Ready?  \n",
       "7443                                             Ready.  \n",
       "\n",
       "[7444 rows x 5 columns]"
      ]
     },
     "execution_count": 5,
     "metadata": {},
     "output_type": "execute_result"
    }
   ],
   "source": [
    "df = pd.read_csv('../Harry_Potter_Movies/Dialogue.csv', encoding='ISO-8859-1')\n",
    "df"
   ]
  },
  {
   "cell_type": "code",
   "execution_count": 7,
   "metadata": {},
   "outputs": [],
   "source": [
    "def remove_punctuations(text):\n",
    "    for punctuation in string.punctuation:\n",
    "        text = text.replace(punctuation,\" \")\n",
    "    return text\n",
    "\n",
    "df[\"Tokens\"] = df[\"Dialogue\"].str.lower().apply(remove_punctuations).apply(nltk.word_tokenize)\n",
    "df[\"Tokens\"]\n",
    "df\n",
    "\n",
    "dialoge = df[\"Tokens\"].tolist()\n",
    "filtered_tokens = []\n",
    "for line in dialoge:\n",
    "    line_list = []\n",
    "    for token in line:\n",
    "        if token.lower() not in stopwords.words('english') and token not in string.punctuation:\n",
    "            line_list.append(token)\n",
    "\n",
    "    filtered_tokens.append(line_list)"
   ]
  },
  {
   "cell_type": "code",
   "execution_count": 22,
   "metadata": {},
   "outputs": [],
   "source": [
    "gensim_model_sg = gensim.models.Word2Vec(\n",
    "    vector_size=1000,\n",
    "    window=5,  \n",
    "    min_count=3,\n",
    "    workers=4,\n",
    "    sg=1,\n",
    ")\n",
    "gensim_model_sg.build_vocab(filtered_tokens, progress_per=1000)\n",
    "gensim_model_sg.train(filtered_tokens, total_examples=gensim_model_sg.corpus_count, epochs=25)\n",
    "gensim_model_sg.save(\"../Utils/word2vec_sg.model\")\n",
    "\n",
    "\n",
    "gensim_model_cbow = gensim.models.Word2Vec(\n",
    "    vector_size=1000,\n",
    "    window=5,  \n",
    "    min_count=3,\n",
    "    workers=4,\n",
    "    sg=0,\n",
    ")\n",
    "gensim_model_cbow.build_vocab(filtered_tokens, progress_per=1000)\n",
    "gensim_model_cbow.train(filtered_tokens, total_examples=gensim_model_cbow.corpus_count, epochs=25)\n",
    "gensim_model_cbow.save(\"../Utils/word2vec_cbow.model\")"
   ]
  },
  {
   "cell_type": "code",
   "execution_count": 9,
   "metadata": {},
   "outputs": [
    {
     "data": {
      "text/plain": [
       "[('severus', 0.8171256184577942),\n",
       " ('potions', 0.789299726486206),\n",
       " ('mcgonagall', 0.7863063216209412),\n",
       " ('slughorn', 0.774662435054779),\n",
       " ('quirrell', 0.7685695290565491),\n",
       " ('teaching', 0.7629801034927368),\n",
       " ('grandmother', 0.7478223443031311),\n",
       " ('occlumency', 0.7391108870506287),\n",
       " ('agreed', 0.7371497750282288),\n",
       " ('professor', 0.7293018102645874)]"
      ]
     },
     "execution_count": 9,
     "metadata": {},
     "output_type": "execute_result"
    }
   ],
   "source": []
  },
  {
   "cell_type": "code",
   "execution_count": 34,
   "metadata": {},
   "outputs": [
    {
     "name": "stdout",
     "output_type": "stream",
     "text": [
      "Doesn't match 'dumbledore', 'ron', 'arthur', 'fred', 'george', 'ginny': ron\n",
      "Doesn't match 'harry', 'ron', 'hermione', 'malfoy': ron\n",
      "Doesn't match 'gryffindor', 'slytherin', 'hufflepuff', 'ravenclaw', 'voldemort': voldemort\n",
      "Vector similarity 'gryffindor', 'ravenclaw': 0.8811679482460022\n",
      "Vector similarity 'gryffindor', 'malfoy': 0.8682464361190796\n",
      "Vector similarity 'gryffindor', 'voldemort': 0.5200866460800171\n"
     ]
    }
   ],
   "source": [
    "# Word2Vec CBoW Model Check\n",
    "w2vmodel_cbow = gensim.models.Word2Vec.load(\"../Utils/word2vec_cbow.model\")\n",
    "print(f\"Doesn't match 'dumbledore', 'ron', 'arthur', 'fred', 'george', 'ginny': {w2vmodel_cbow.wv.doesnt_match(['dumbledore', 'ron', 'arthur', 'fred', 'george', 'ginny'])}\")\n",
    "print(f\"Doesn't match 'harry', 'ron', 'hermione', 'malfoy': {w2vmodel_cbow.wv.doesnt_match(['harry', 'ron', 'hermione', 'malfoy'])}\")\n",
    "print(f\"Doesn't match 'gryffindor', 'slytherin', 'hufflepuff', 'ravenclaw', 'voldemort': {w2vmodel_cbow.wv.doesnt_match(['gryffindor', 'slytherin', 'hufflepuff', 'ravenclaw', 'voldemort'])}\")\n",
    "print(f\"Vector similarity 'gryffindor', 'ravenclaw': {w2vmodel_cbow.wv.similarity('gryffindor', 'ravenclaw')}\")\n",
    "print(f\"Vector similarity 'gryffindor', 'malfoy': {w2vmodel_cbow.wv.similarity('gryffindor', 'malfoy')}\")\n",
    "print(f\"Vector similarity 'gryffindor', 'voldemort': {w2vmodel_cbow.wv.similarity('gryffindor', 'voldemort')}\")"
   ]
  },
  {
   "cell_type": "code",
   "execution_count": 47,
   "metadata": {},
   "outputs": [
    {
     "data": {
      "text/plain": [
       "[('severus', 0.9804268479347229),\n",
       " ('professor', 0.9734567999839783),\n",
       " ('quirrell', 0.9727271795272827),\n",
       " ('faithful', 0.9687085151672363),\n",
       " ('idea', 0.9686374664306641),\n",
       " ('mcgonagall', 0.9678597450256348),\n",
       " ('trust', 0.9675794243812561),\n",
       " ('headmaster', 0.9671908020973206),\n",
       " ('merrythought', 0.9658948183059692),\n",
       " ('knows', 0.9650515913963318)]"
      ]
     },
     "execution_count": 47,
     "metadata": {},
     "output_type": "execute_result"
    }
   ],
   "source": [
    "w2vmodel_cbow.wv.most_similar('snape')"
   ]
  },
  {
   "cell_type": "code",
   "execution_count": 35,
   "metadata": {},
   "outputs": [
    {
     "name": "stdout",
     "output_type": "stream",
     "text": [
      "Doesn't match 'dumbledore', 'ron', 'arthur', 'fred', 'george', 'ginny': dumbledore\n",
      "Doesn't match 'harry', 'ron', 'hermione', 'malfoy': malfoy\n",
      "Doesn't match 'gryffindor', 'slytherin', 'hufflepuff', 'ravenclaw', 'voldemort': voldemort\n",
      "Vector similarity 'gryffindor', 'ravenclaw': 0.8083133697509766\n",
      "Vector similarity 'gryffindor', 'malfoy': 0.2862491309642792\n",
      "Vector similarity 'gryffindor', 'voldemort': 0.044648874551057816\n"
     ]
    }
   ],
   "source": [
    "# Word2Vec Skip-Gram Model Check\n",
    "w2v_model_sg = gensim.models.Word2Vec.load(\"../Utils/word2vec_sg.model\")\n",
    "print(f\"Doesn't match 'dumbledore', 'ron', 'arthur', 'fred', 'george', 'ginny': {w2v_model_sg.wv.doesnt_match(['dumbledore', 'ron', 'arthur', 'fred', 'george', 'ginny'])}\")\n",
    "print(f\"Doesn't match 'harry', 'ron', 'hermione', 'malfoy': {w2v_model_sg.wv.doesnt_match(['harry', 'ron', 'hermione', 'malfoy'])}\")\n",
    "print(f\"Doesn't match 'gryffindor', 'slytherin', 'hufflepuff', 'ravenclaw', 'voldemort': {w2v_model_sg.wv.doesnt_match(['gryffindor', 'slytherin', 'hufflepuff', 'ravenclaw', 'voldemort'])}\")\n",
    "print(f\"Vector similarity 'gryffindor', 'ravenclaw': {w2v_model_sg.wv.similarity('gryffindor', 'ravenclaw')}\")\n",
    "print(f\"Vector similarity 'gryffindor', 'malfoy': {w2v_model_sg.wv.similarity('gryffindor', 'malfoy')}\")\n",
    "print(f\"Vector similarity 'gryffindor', 'voldemort': {w2v_model_sg.wv.similarity('gryffindor', 'voldemort')}\")"
   ]
  },
  {
   "cell_type": "code",
   "execution_count": 36,
   "metadata": {},
   "outputs": [
    {
     "data": {
      "text/plain": [
       "<function matplotlib.pyplot.show(close=None, block=None)>"
      ]
     },
     "execution_count": 36,
     "metadata": {},
     "output_type": "execute_result"
    },
    {
     "data": {
      "image/png": "[encoded data removed]",
      "text/plain": [
       "<Figure size 1080x720 with 1 Axes>"
      ]
     },
     "metadata": {
      "needs_background": "light"
     },
     "output_type": "display_data"
    }
   ],
   "source": [
    "import sklearn\n",
    "from sklearn.decomposition import PCA\n",
    "from matplotlib import pyplot\n",
    "\n",
    "words =['harry', 'ron', 'hermione', 'voldemort', 'ginny', 'gryffindor', 'slytherin','hufflepuff', 'ravenclaw']\n",
    "X = w2vmodel_cbow.wv[words]\n",
    "X\n",
    "pca = PCA(n_components =2)\n",
    "result = pca.fit_transform(X)\n",
    "result\n",
    "pyplot.figure(figsize=(15,10))\n",
    "pyplot.scatter(result[:,0], result[:,1])\n",
    "for i, word in enumerate(words):\n",
    "    pyplot.annotate(word, xy=(result[i,0],result[i,1]))\n",
    "pyplot.show"
   ]
  },
  {
   "cell_type": "code",
   "execution_count": 29,
   "metadata": {},
   "outputs": [],
   "source": [
    "# Fasttext needs a single .txt corpus (not a list of tokens). So we preprocess all dialogue, concatenate it and save it into a new file\n",
    "\n",
    "story = []\n",
    "\n",
    "corpus = df['Dialogue'].tolist()\n",
    "raw = ''.join(corpus)\n",
    "raw_sent = nltk.sent_tokenize(raw)\n",
    "for sent in raw_sent:\n",
    "        # 3 - Removal of stopwords\n",
    "        sent = remove_stopwords(sent)\n",
    "        \n",
    "        # 4 - Removal of punctuation marks \n",
    "        # 5 - Tokenization of sentences to words\n",
    "        story.append(simple_preprocess(sent))\n",
    "story = [x for x in story if x]\n",
    "\n",
    "story_concat = []\n",
    "token_join = []\n",
    "\n",
    "for token in story:\n",
    "    tokenjoin = ' '.join(token)\n",
    "    token_join.append(tokenjoin)\n",
    "storyjoin = ' '.join(token_join)\n",
    "story_concat.append(storyjoin)\n",
    "\n",
    "# Convert String to list\n",
    "string = ''.join(story_concat)\n",
    "\n",
    "# Open a new file in write mode\n",
    "f = open('../Utils/DialogueCorpus.txt', 'w')\n",
    "\n",
    "# Write a string to the file\n",
    "f.write(string)\n",
    "\n",
    "# Close the file\n",
    "f.close()"
   ]
  },
  {
   "cell_type": "code",
   "execution_count": 39,
   "metadata": {},
   "outputs": [
    {
     "name": "stderr",
     "output_type": "stream",
     "text": [
      "Read 0M words\n",
      "Number of words:  3043\n",
      "Number of labels: 0\n",
      "Progress: 100.0% words/sec/thread:   66059 lr:  0.000000 avg.loss: 16.070963 ETA:   0h 0m 0s\n",
      "Read 0M words\n",
      "Number of words:  3043\n",
      "Number of labels: 0\n",
      "Progress: 100.0% words/sec/thread:  125408 lr:  0.000000 avg.loss:  2.266031 ETA:   0h 0m 0s\n"
     ]
    }
   ],
   "source": [
    "import fasttext\n",
    "\n",
    "input_corpus = '../Utils/DialogueCorpus.txt'\n",
    "\n",
    "VERBOSE = 2         # Console Log verbosity (1: reduced Log, 0: no log)\n",
    "EPOCH = 20          # Iterative training epochs\n",
    "DIM = 100           # Vector Dimensions\n",
    "THREAD = 8          # CPU Threads (1 if you are not sure)\n",
    "LR = 0.3            # Learn rate\n",
    "lRUPDATERATE = 100  # Learnrate autoreduction (100 means 100 percent reduction over all epochs)\n",
    "WS = 10             # WindowSize\n",
    "NGRAM = 4           # ngram range (unigrams, bigrams, trigrams, etc.)\n",
    "MINN = 2            # minimal number of word occurences [1]\n",
    "\n",
    "# train the Skipgram model :\n",
    "ft_model_sg = fasttext.train_unsupervised(\n",
    "    input_corpus, \n",
    "    model='skipgram', \n",
    "    dim = DIM, epoch = EPOCH, \n",
    "    lr = LR, \n",
    "    lrUpdateRate = lRUPDATERATE, \n",
    "    thread = THREAD,\n",
    "    ws = WS,\n",
    "    wordNgrams = NGRAM,\n",
    "    minCount = MINN         \n",
    "    )\n",
    "ft_model_sg.save_model(\"../Utils/fasttext_sg.model\")\n",
    "\n",
    "# or, train the cbow model :\n",
    "ft_model_cbow = fasttext.train_unsupervised(\n",
    "    input_corpus, \n",
    "    model='cbow', \n",
    "    dim = DIM, \n",
    "    epoch = EPOCH, \n",
    "    lr = LR, \n",
    "    lrUpdateRate = lRUPDATERATE, \n",
    "    thread = THREAD,\n",
    "    ws = WS,\n",
    "    wordNgrams = NGRAM,\n",
    "    minCount = MINN\n",
    "    )\n",
    "ft_model_cbow.save_model(\"../Utils/fasttext_cbow.model\")\n"
   ]
  },
  {
   "cell_type": "code",
   "execution_count": 46,
   "metadata": {},
   "outputs": [
    {
     "name": "stdout",
     "output_type": "stream",
     "text": [
      "[(0.40337055921554565, 'susan'), (0.388502299785614, 'game'), (0.38845568895339966, 'captain')]\n",
      "[(0.7483243346214294, 'weasle'), (0.5932480692863464, 'weasley'), (0.5753625631332397, 'weasleys')]\n",
      "[(0.5883768796920776, 'brewing'), (0.5739725828170776, 'polyjuice'), (0.4621232748031616, 'habit')]\n",
      "[(0.5949199795722961, 'potions'), (0.5224819183349609, 'action'), (0.4772787094116211, 'lion')]\n",
      "[(0.3781333565711975, 'sending'), (0.35475876927375793, 'named'), (0.3338356614112854, 'otherwise')]\n"
     ]
    },
    {
     "name": "stderr",
     "output_type": "stream",
     "text": [
      "Warning : `load_model` does not return WordVectorModel or SupervisedModel any more, but a `FastText` object which is very similar.\n",
      "Warning : `load_model` does not return WordVectorModel or SupervisedModel any more, but a `FastText` object which is very similar.\n"
     ]
    },
    {
     "data": {
      "text/plain": [
       "[(0.4964796006679535, 'strange'),\n",
       " (0.33821314573287964, 'foulest'),\n",
       " (0.336564302444458, 'transferred')]"
      ]
     },
     "execution_count": 46,
     "metadata": {},
     "output_type": "execute_result"
    }
   ],
   "source": [
    "ft_model_sg = fasttext.load_model(\"../Utils/fasttext_sg.model\")\n",
    "ft_model_cbow = fasttext.load_model(\"../Utils/fasttext_cbow.model\")\n",
    "\n",
    "print(ft_model_sg.get_nearest_neighbors('weasley', 3))\n",
    "print(ft_model_cbow.get_nearest_neighbors('weasly', 3))\n",
    "\n",
    "word = 'potion'\n",
    "print(ft_model_sg.get_nearest_neighbors(word, 3))\n",
    "print(ft_model_cbow.get_nearest_neighbors(word, 3))\n",
    "\n",
    "ft_model_cbow.get_analogies(\"secret\", \"hogwarts\", \"snake\", 3)\n",
    "ft_model_cbow.get_analogies(\"harry\", \"ron\", \"hermione\", 3)\n",
    "ft_model_sg.get_analogies(\"chamber\", \"hogwarts\", \"slytherin\", 3)\n",
    "ft_model_sg.get_analogies(\"harry\", \"ron\", \"hermione\", 3)\n",
    "print(ft_model_sg.get_analogies(\"hogwarts\", \"gryffindor\", \"slytherin\", 3))\n",
    "ft_model_cbow.get_analogies(\"lestrange\", \"malfoy\", \"voldemort\", 3)"
   ]
  },
  {
   "cell_type": "code",
   "execution_count": null,
   "metadata": {},
   "outputs": [],
   "source": []
  }
 ],
 "metadata": {
  "kernelspec": {
   "display_name": "base",
   "language": "python",
   "name": "python3"
  },
  "language_info": {
   "codemirror_mode": {
    "name": "ipython",
    "version": 3
   },
   "file_extension": ".py",
   "mimetype": "text/x-python",
   "name": "python",
   "nbconvert_exporter": "python",
   "pygments_lexer": "ipython3",
   "version": "3.9.10"
  },
  "orig_nbformat": 4,
  "vscode": {
   "interpreter": {
    "hash": "c6e4e9f98eb68ad3b7c296f83d20e6de614cb42e90992a65aa266555a3137d0d"
   }
  }
 },
 "nbformat": 4,
 "nbformat_minor": 2
}
